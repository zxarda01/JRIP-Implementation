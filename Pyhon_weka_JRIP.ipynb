{
  "nbformat": 4,
  "nbformat_minor": 0,
  "metadata": {
    "colab": {
      "name": "Untit sudo apt-get install default-jdkled0.ipynb",
      "provenance": [],
      "authorship_tag": "ABX9TyPWk70Au6+7mbalGTNhownx",
      "include_colab_link": true
    },
    "kernelspec": {
      "name": "python3",
      "display_name": "Python 3"
    }
  },
  "cells": [
    {
      "cell_type": "markdown",
      "metadata": {
        "id": "view-in-github",
        "colab_type": "text"
      },
      "source": [
        "<a href=\"https://colab.research.google.com/github/zxarda01/JRIP-Implementation/blob/main/Pyhon_weka_JRIP.ipynb\" target=\"_parent\"><img src=\"https://colab.research.google.com/assets/colab-badge.svg\" alt=\"Open In Colab\"/></a>"
      ]
    },
    {
      "cell_type": "code",
      "metadata": {
        "colab": {
          "base_uri": "https://localhost:8080/"
        },
        "id": "nXVZyyVOXFNs",
        "outputId": "367e62e9-a2c1-4541-c067-6d629bf83710"
      },
      "source": [
        "!sudo apt-get install default-jdk\r\n",
        "!sudo pip install javabridge\r\n",
        "!sudo pip install python-weka-wrapper3\r\n",
        "!sudo pip install graphviz"
      ],
      "execution_count": 38,
      "outputs": [
        {
          "output_type": "stream",
          "text": [
            "Reading package lists... Done\n",
            "Building dependency tree       \n",
            "Reading state information... Done\n",
            "default-jdk is already the newest version (2:1.11-68ubuntu1~18.04.1).\n",
            "0 upgraded, 0 newly installed, 0 to remove and 15 not upgraded.\n",
            "Requirement already satisfied: javabridge in /usr/local/lib/python3.6/dist-packages (1.0.19)\n",
            "Requirement already satisfied: numpy in /usr/local/lib/python3.6/dist-packages (from javabridge) (1.19.4)\n",
            "Requirement already satisfied: python-weka-wrapper3 in /usr/local/lib/python3.6/dist-packages (0.1.16)\n",
            "Requirement already satisfied: javabridge>=1.0.14 in /usr/local/lib/python3.6/dist-packages (from python-weka-wrapper3) (1.0.19)\n",
            "Requirement already satisfied: numpy in /usr/local/lib/python3.6/dist-packages (from python-weka-wrapper3) (1.19.4)\n",
            "Requirement already satisfied: graphviz in /usr/local/lib/python3.6/dist-packages (0.10.1)\n"
          ],
          "name": "stdout"
        }
      ]
    },
    {
      "cell_type": "code",
      "metadata": {
        "id": "DHc5_zdJbvdS"
      },
      "source": [
        "import os\r\n",
        "import traceback\r\n",
        "import weka.core.jvm as jvm\r\n",
        "#import wekaexamples.helper as helper\r\n",
        "from weka.core.converters import Loader\r\n",
        "from weka.classifiers import Classifier, SingleClassifierEnhancer, MultipleClassifiersCombiner, FilteredClassifier,PredictionOutput, Kernel, KernelClassifier\r\n",
        "from weka.classifiers import Evaluation\r\n",
        "from weka.filters import Filter\r\n",
        "from weka.core.classes import Random, from_commandline\r\n",
        "import weka.plot.classifiers as plot_cls\r\n",
        "import weka.plot.graph as plot_graph\r\n",
        "#import weka.core.types as types"
      ],
      "execution_count": 19,
      "outputs": []
    },
    {
      "cell_type": "code",
      "metadata": {
        "colab": {
          "base_uri": "https://localhost:8080/"
        },
        "id": "XeDiGdExmUEL",
        "outputId": "fccc025d-4c45-486e-8d3e-c0e63eefbb5d"
      },
      "source": [
        "!wget https://storm.cis.fordham.edu/~gweiss/data-mining/weka-data/labor.arff\r\n",
        "!wget https://storm.cis.fordham.edu/~gweiss/data-mining/weka-data/iris.arff"
      ],
      "execution_count": 25,
      "outputs": [
        {
          "output_type": "stream",
          "text": [
            "--2020-12-30 21:58:42--  https://storm.cis.fordham.edu/~gweiss/data-mining/weka-data/labor.arff\n",
            "Resolving storm.cis.fordham.edu (storm.cis.fordham.edu)... 150.108.68.26\n",
            "Connecting to storm.cis.fordham.edu (storm.cis.fordham.edu)|150.108.68.26|:443... connected.\n",
            "HTTP request sent, awaiting response... 200 OK\n",
            "Length: 8255 (8.1K) [text/plain]\n",
            "Saving to: ‘labor.arff.2’\n",
            "\n",
            "\rlabor.arff.2          0%[                    ]       0  --.-KB/s               \rlabor.arff.2        100%[===================>]   8.06K  --.-KB/s    in 0s      \n",
            "\n",
            "2020-12-30 21:58:42 (171 MB/s) - ‘labor.arff.2’ saved [8255/8255]\n",
            "\n",
            "--2020-12-30 21:58:42--  https://storm.cis.fordham.edu/~gweiss/data-mining/weka-data/iris.arff\n",
            "Resolving storm.cis.fordham.edu (storm.cis.fordham.edu)... 150.108.68.26\n",
            "Connecting to storm.cis.fordham.edu (storm.cis.fordham.edu)|150.108.68.26|:443... connected.\n",
            "HTTP request sent, awaiting response... 200 OK\n",
            "Length: 7486 (7.3K) [text/plain]\n",
            "Saving to: ‘iris.arff’\n",
            "\n",
            "iris.arff           100%[===================>]   7.31K  --.-KB/s    in 0s      \n",
            "\n",
            "2020-12-30 21:58:42 (680 MB/s) - ‘iris.arff’ saved [7486/7486]\n",
            "\n"
          ],
          "name": "stdout"
        }
      ]
    },
    {
      "cell_type": "code",
      "metadata": {
        "id": "Cj4v2MPqhXoK"
      },
      "source": [
        "from weka.core.converters import Loader\r\n",
        "\r\n",
        "labor_file = '/content/labor.arff'\r\n",
        "loader = Loader(\"weka.core.converters.ArffLoader\")\r\n",
        "labor_data = loader.load_file(labor_file)\r\n",
        "labor_data.class_is_last()"
      ],
      "execution_count": 20,
      "outputs": []
    },
    {
      "cell_type": "code",
      "metadata": {
        "id": "uCRtg6fqor9m"
      },
      "source": [
        "iris_file = '/content/labor.arff'\r\n",
        "loader = Loader(\"weka.core.converters.ArffLoader\")\r\n",
        "iris_data = loader.load_file(iris_file)\r\n",
        "iris_data.class_is_last()"
      ],
      "execution_count": 26,
      "outputs": []
    },
    {
      "cell_type": "code",
      "metadata": {
        "colab": {
          "base_uri": "https://localhost:8080/"
        },
        "id": "XMc9BpicqhNn",
        "outputId": "4b6e1a86-928a-4b70-d3ca-02a3d3e00f9d"
      },
      "source": [
        "# classifier help\r\n",
        "classifier = Classifier(classname=\"weka.classifiers.trees.J48\")\r\n",
        "print(classifier.to_help())"
      ],
      "execution_count": 32,
      "outputs": [
        {
          "output_type": "stream",
          "text": [
            "weka.classifiers.trees.J48\n",
            "==========================\n",
            "\n",
            "DESCRIPTION\n",
            "\n",
            "Class for generating a pruned or unpruned C4.5 decision tree. For more information, see\n",
            "\n",
            "Ross Quinlan (1993). C4.5: Programs for Machine Learning. Morgan Kaufmann Publishers, San Mateo, CA.\n",
            "\n",
            "OPTIONS\n",
            "\n",
            "-U\n",
            "\tUse unpruned tree.\n",
            "\n",
            "-O\n",
            "\tDo not collapse tree.\n",
            "\n",
            "-C <pruning confidence>\n",
            "\tSet confidence threshold for pruning.\n",
            "\t(default 0.25)\n",
            "\n",
            "-M <minimum number of instances>\n",
            "\tSet minimum number of instances per leaf.\n",
            "\t(default 2)\n",
            "\n",
            "-R\n",
            "\tUse reduced error pruning.\n",
            "\n",
            "-N <number of folds>\n",
            "\tSet number of folds for reduced error\n",
            "\tpruning. One fold is used as pruning set.\n",
            "\t(default 3)\n",
            "\n",
            "-B\n",
            "\tUse binary splits only.\n",
            "\n",
            "-S\n",
            "\tDo not perform subtree raising.\n",
            "\n",
            "-L\n",
            "\tDo not clean up after the tree has been built.\n",
            "\n",
            "-A\n",
            "\tLaplace smoothing for predicted probabilities.\n",
            "\n",
            "-J\n",
            "\tDo not use MDL correction for info gain on numeric attributes.\n",
            "\n",
            "-Q <seed>\n",
            "\tSeed for random data shuffling (default 1).\n",
            "\n",
            "-doNotMakeSplitPointActualValue\n",
            "\tDo not make split point actual value.\n",
            "\n",
            "-output-debug-info\n",
            "\tIf set, classifier is run in debug mode and\n",
            "\tmay output additional info to the console\n",
            "\n",
            "-do-not-check-capabilities\n",
            "\tIf set, classifier capabilities are not checked before classifier is built\n",
            "\t(use with caution).\n",
            "\n",
            "-num-decimal-places\n",
            "\tThe number of decimal places for the output of numbers in the model (default 2).\n",
            "\n",
            "-batch-size\n",
            "\tThe desired batch size for batch prediction  (default 100).\n",
            "\n"
          ],
          "name": "stdout"
        }
      ]
    },
    {
      "cell_type": "code",
      "metadata": {
        "colab": {
          "base_uri": "https://localhost:8080/"
        },
        "id": "Xudo1bBtr7zG",
        "outputId": "b416b235-57f4-4899-b9aa-57c62cf87d2e"
      },
      "source": [
        "# partial classname\r\n",
        "clsname = \".J48\"\r\n",
        "classifier = Classifier(classname=clsname)\r\n",
        "print(clsname + \" --> \" + classifier.classname)"
      ],
      "execution_count": 33,
      "outputs": [
        {
          "output_type": "stream",
          "text": [
            ".J48 --> weka.classifiers.trees.J48\n"
          ],
          "name": "stdout"
        }
      ]
    },
    {
      "cell_type": "code",
      "metadata": {
        "colab": {
          "base_uri": "https://localhost:8080/"
        },
        "id": "ICisdnrmtxsu",
        "outputId": "dbc933b9-cae2-475c-b0dc-f1ad91918ec4"
      },
      "source": [
        "classifier = Classifier(classname=\"weka.classifiers.trees.J48\")\r\n",
        "    # Instead of using 'options=[\"-C\", \"0.3\"]' in the constructor, we can also set the \"confidenceFactor\"\r\n",
        "    # property of the J48 classifier itself. However, being of type float rather than double, we need\r\n",
        "    # to convert it to the correct type first using the double_to_float function:\r\n",
        "classifier.build_classifier(iris_data)\r\n",
        "print(classifier)\r\n",
        "print(classifier.graph)\r\n",
        "print(classifier.to_source(\"MyJ48\"))\r\n",
        "plot_graph.plot_dot_graph(classifier.graph)\r\n"
      ],
      "execution_count": 39,
      "outputs": [
        {
          "output_type": "stream",
          "text": [
            "ERROR:weka.plot.graph:Pygraphviz is not installed, cannot generate graph plot!\n"
          ],
          "name": "stderr"
        },
        {
          "output_type": "stream",
          "text": [
            "J48 pruned tree\n",
            "------------------\n",
            "\n",
            "wage-increase-first-year <= 2.5: bad (15.27/2.27)\n",
            "wage-increase-first-year > 2.5\n",
            "|   statutory-holidays <= 10: bad (10.77/4.77)\n",
            "|   statutory-holidays > 10: good (30.96/1.0)\n",
            "\n",
            "Number of Leaves  : \t3\n",
            "\n",
            "Size of the tree : \t5\n",
            "\n",
            "digraph J48Tree {\n",
            "N0 [label=\"wage-increase-first-year\" ]\n",
            "N0->N1 [label=\"<= 2.5\"]\n",
            "N1 [label=\"bad (15.27/2.27)\" shape=box style=filled ]\n",
            "N0->N2 [label=\"> 2.5\"]\n",
            "N2 [label=\"statutory-holidays\" ]\n",
            "N2->N3 [label=\"<= 10\"]\n",
            "N3 [label=\"bad (10.77/4.77)\" shape=box style=filled ]\n",
            "N2->N4 [label=\"> 10\"]\n",
            "N4 [label=\"good (30.96/1.0)\" shape=box style=filled ]\n",
            "}\n",
            "\n",
            "class MyJ48 {\n",
            "\n",
            "  public static double classify(Object[] i)\n",
            "    throws Exception {\n",
            "\n",
            "    double p = Double.NaN;\n",
            "    p = MyJ48.N5ac5af762(i);\n",
            "    return p;\n",
            "  }\n",
            "  static double N5ac5af762(Object []i) {\n",
            "    double p = Double.NaN;\n",
            "    if (i[1] == null) {\n",
            "      p = 0;\n",
            "    } else if (((Double) i[1]).doubleValue() <= 2.5) {\n",
            "      p = 0;\n",
            "    } else if (((Double) i[1]).doubleValue() > 2.5) {\n",
            "    p = MyJ48.N4b27fb1e3(i);\n",
            "    } \n",
            "    return p;\n",
            "  }\n",
            "  static double N4b27fb1e3(Object []i) {\n",
            "    double p = Double.NaN;\n",
            "    if (i[10] == null) {\n",
            "      p = 0;\n",
            "    } else if (((Double) i[10]).doubleValue() <= 10.0) {\n",
            "      p = 0;\n",
            "    } else if (((Double) i[10]).doubleValue() > 10.0) {\n",
            "      p = 1;\n",
            "    } \n",
            "    return p;\n",
            "  }\n",
            "}\n",
            "\n"
          ],
          "name": "stdout"
        }
      ]
    },
    {
      "cell_type": "code",
      "metadata": {
        "colab": {
          "base_uri": "https://localhost:8080/"
        },
        "id": "Yw6OhZ51sGDc",
        "outputId": "8194046f-0454-4f24-e291-13c56b96f0e1"
      },
      "source": [
        "# evaluate model on test set\r\n",
        "\r\n",
        "evaluation = Evaluation(iris_data)\r\n",
        "evl = evaluation.test_model(classifier, iris_data)\r\n",
        "print(evl)\r\n",
        "print(evaluation.summary())\r\n"
      ],
      "execution_count": 40,
      "outputs": [
        {
          "output_type": "stream",
          "text": [
            "[1. 1. 1. 1. 1. 0. 1. 1. 1. 1. 1. 1. 0. 1. 1. 1. 1. 0. 0. 1. 1. 0. 1. 0.\n",
            " 0. 0. 0. 1. 1. 0. 1. 0. 0. 0. 0. 0. 0. 0. 0. 1. 1. 0. 0. 0. 0. 0. 1. 1.\n",
            " 1. 1. 1. 0. 1. 1. 1. 1. 0.]\n",
            "\n",
            "Correctly Classified Instances          50               87.7193 %\n",
            "Incorrectly Classified Instances         7               12.2807 %\n",
            "Kappa statistic                          0.745 \n",
            "Mean absolute error                      0.195 \n",
            "Root mean squared error                  0.304 \n",
            "Relative absolute error                 42.6664 %\n",
            "Root relative squared error             63.6959 %\n",
            "Total Number of Instances               57     \n",
            "\n"
          ],
          "name": "stdout"
        }
      ]
    },
    {
      "cell_type": "code",
      "metadata": {
        "colab": {
          "base_uri": "https://localhost:8080/"
        },
        "id": "Ktn_rpBHuqMB",
        "outputId": "03e40ab7-1ea3-4d96-b105-c96862ffa722"
      },
      "source": [
        "classifier = Classifier(classname=\"weka.classifiers.trees.J48\", options=[\"-C\", \"0.3\"])\r\n",
        "evaluation = Evaluation(iris_data)\r\n",
        "evaluation.evaluate_train_test_split(classifier, iris_data, 66.0, Random(1))\r\n",
        "print(evaluation.summary())"
      ],
      "execution_count": 41,
      "outputs": [
        {
          "output_type": "stream",
          "text": [
            "\n",
            "Correctly Classified Instances          17               89.4737 %\n",
            "Incorrectly Classified Instances         2               10.5263 %\n",
            "Kappa statistic                          0.7564\n",
            "Mean absolute error                      0.2106\n",
            "Root mean squared error                  0.3278\n",
            "Relative absolute error                 47.129  %\n",
            "Root relative squared error             70.2612 %\n",
            "Total Number of Instances               19     \n",
            "\n"
          ],
          "name": "stdout"
        }
      ]
    },
    {
      "cell_type": "code",
      "metadata": {
        "colab": {
          "base_uri": "https://localhost:8080/"
        },
        "id": "_0kTp3ToutUz",
        "outputId": "be199a83-4fa0-452a-d90c-70d0ac3be79d"
      },
      "source": [
        "from weka.classifiers import Classifier\r\n",
        "cls = Classifier(classname=\"weka.classifiers.rules.JRip\")\r\n",
        "cls.build_classifier(iris_data)\r\n",
        "\r\n",
        "for index, inst in enumerate(iris_data):\r\n",
        "    pred = cls.classify_instance(inst)\r\n",
        "    dist = cls.distribution_for_instance(inst)\r\n",
        "    print(str(index+1) + \": label index=\" + str(pred) + \", class distribution=\" + str(dist))"
      ],
      "execution_count": 46,
      "outputs": [
        {
          "output_type": "stream",
          "text": [
            "1: label index=1.0, class distribution=[0. 1.]\n",
            "2: label index=1.0, class distribution=[0. 1.]\n",
            "3: label index=1.0, class distribution=[0. 1.]\n",
            "4: label index=1.0, class distribution=[0. 1.]\n",
            "5: label index=1.0, class distribution=[0. 1.]\n",
            "6: label index=0.0, class distribution=[0.86666667 0.13333333]\n",
            "7: label index=1.0, class distribution=[0. 1.]\n",
            "8: label index=1.0, class distribution=[0. 1.]\n",
            "9: label index=1.0, class distribution=[0. 1.]\n",
            "10: label index=1.0, class distribution=[0. 1.]\n",
            "11: label index=1.0, class distribution=[0. 1.]\n",
            "12: label index=1.0, class distribution=[0. 1.]\n",
            "13: label index=0.0, class distribution=[1. 0.]\n",
            "14: label index=1.0, class distribution=[0. 1.]\n",
            "15: label index=1.0, class distribution=[0. 1.]\n",
            "16: label index=1.0, class distribution=[0. 1.]\n",
            "17: label index=1.0, class distribution=[0. 1.]\n",
            "18: label index=0.0, class distribution=[0.86666667 0.13333333]\n",
            "19: label index=0.0, class distribution=[0.86666667 0.13333333]\n",
            "20: label index=1.0, class distribution=[0. 1.]\n",
            "21: label index=1.0, class distribution=[0. 1.]\n",
            "22: label index=0.0, class distribution=[0.86666667 0.13333333]\n",
            "23: label index=1.0, class distribution=[0. 1.]\n",
            "24: label index=1.0, class distribution=[0. 1.]\n",
            "25: label index=1.0, class distribution=[0. 1.]\n",
            "26: label index=0.0, class distribution=[0.86666667 0.13333333]\n",
            "27: label index=1.0, class distribution=[0. 1.]\n",
            "28: label index=1.0, class distribution=[0. 1.]\n",
            "29: label index=1.0, class distribution=[0. 1.]\n",
            "30: label index=0.0, class distribution=[0.86666667 0.13333333]\n",
            "31: label index=1.0, class distribution=[0. 1.]\n",
            "32: label index=0.0, class distribution=[1. 0.]\n",
            "33: label index=0.0, class distribution=[0.86666667 0.13333333]\n",
            "34: label index=0.0, class distribution=[1. 0.]\n",
            "35: label index=0.0, class distribution=[0.86666667 0.13333333]\n",
            "36: label index=0.0, class distribution=[0.86666667 0.13333333]\n",
            "37: label index=0.0, class distribution=[0.86666667 0.13333333]\n",
            "38: label index=0.0, class distribution=[1. 0.]\n",
            "39: label index=0.0, class distribution=[0.86666667 0.13333333]\n",
            "40: label index=1.0, class distribution=[0. 1.]\n",
            "41: label index=0.0, class distribution=[1. 0.]\n",
            "42: label index=0.0, class distribution=[0.86666667 0.13333333]\n",
            "43: label index=0.0, class distribution=[0.86666667 0.13333333]\n",
            "44: label index=0.0, class distribution=[0.86666667 0.13333333]\n",
            "45: label index=0.0, class distribution=[1. 0.]\n",
            "46: label index=0.0, class distribution=[1. 0.]\n",
            "47: label index=1.0, class distribution=[0. 1.]\n",
            "48: label index=1.0, class distribution=[0. 1.]\n",
            "49: label index=1.0, class distribution=[0. 1.]\n",
            "50: label index=1.0, class distribution=[0. 1.]\n",
            "51: label index=1.0, class distribution=[0. 1.]\n",
            "52: label index=0.0, class distribution=[0.86666667 0.13333333]\n",
            "53: label index=1.0, class distribution=[0. 1.]\n",
            "54: label index=1.0, class distribution=[0. 1.]\n",
            "55: label index=1.0, class distribution=[0. 1.]\n",
            "56: label index=1.0, class distribution=[0. 1.]\n",
            "57: label index=1.0, class distribution=[0. 1.]\n"
          ],
          "name": "stdout"
        }
      ]
    }
  ]
}